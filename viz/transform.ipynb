{
 "cells": [
  {
   "cell_type": "markdown",
   "metadata": {},
   "source": [
    "# Data Loading, Filtering, and Intermediate File Creation\n",
    "This notebook demonstrates how to load and filter partitioned Parquet files using Polars with lazy evaluation, and save the filtered data to an intermediate file.\n"
   ]
  },
  {
   "cell_type": "markdown",
   "metadata": {},
   "source": [
    "## Step 1: Install Required Packages\n",
    "Ensure you have the required packages installed."
   ]
  },
  {
   "cell_type": "code",
   "execution_count": 1,
   "metadata": {},
   "outputs": [
    {
     "name": "stdout",
     "output_type": "stream",
     "text": [
      "Requirement already satisfied: geopandas in ./venv/lib/python3.12/site-packages (0.14.4)\n",
      "Requirement already satisfied: polars in ./venv/lib/python3.12/site-packages (0.20.31)\n",
      "Requirement already satisfied: fiona>=1.8.21 in ./venv/lib/python3.12/site-packages (from geopandas) (1.9.6)\n",
      "Requirement already satisfied: numpy>=1.22 in ./venv/lib/python3.12/site-packages (from geopandas) (1.26.4)\n",
      "Requirement already satisfied: packaging in ./venv/lib/python3.12/site-packages (from geopandas) (24.1)\n",
      "Requirement already satisfied: pandas>=1.4.0 in ./venv/lib/python3.12/site-packages (from geopandas) (2.2.2)\n",
      "Requirement already satisfied: pyproj>=3.3.0 in ./venv/lib/python3.12/site-packages (from geopandas) (3.6.1)\n",
      "Requirement already satisfied: shapely>=1.8.0 in ./venv/lib/python3.12/site-packages (from geopandas) (2.0.4)\n",
      "Requirement already satisfied: attrs>=19.2.0 in ./venv/lib/python3.12/site-packages (from fiona>=1.8.21->geopandas) (23.2.0)\n",
      "Requirement already satisfied: certifi in ./venv/lib/python3.12/site-packages (from fiona>=1.8.21->geopandas) (2024.6.2)\n",
      "Requirement already satisfied: click~=8.0 in ./venv/lib/python3.12/site-packages (from fiona>=1.8.21->geopandas) (8.1.7)\n",
      "Requirement already satisfied: click-plugins>=1.0 in ./venv/lib/python3.12/site-packages (from fiona>=1.8.21->geopandas) (1.1.1)\n",
      "Requirement already satisfied: cligj>=0.5 in ./venv/lib/python3.12/site-packages (from fiona>=1.8.21->geopandas) (0.7.2)\n",
      "Requirement already satisfied: six in ./venv/lib/python3.12/site-packages (from fiona>=1.8.21->geopandas) (1.16.0)\n",
      "Requirement already satisfied: python-dateutil>=2.8.2 in ./venv/lib/python3.12/site-packages (from pandas>=1.4.0->geopandas) (2.9.0.post0)\n",
      "Requirement already satisfied: pytz>=2020.1 in ./venv/lib/python3.12/site-packages (from pandas>=1.4.0->geopandas) (2024.1)\n",
      "Requirement already satisfied: tzdata>=2022.7 in ./venv/lib/python3.12/site-packages (from pandas>=1.4.0->geopandas) (2024.1)\n"
     ]
    }
   ],
   "source": [
    "!pip install geopandas polars"
   ]
  },
  {
   "cell_type": "markdown",
   "metadata": {},
   "source": [
    "## Step 2: Import Libraries"
   ]
  },
  {
   "cell_type": "code",
   "execution_count": 1,
   "metadata": {},
   "outputs": [],
   "source": [
    "import geopandas as gpd\n",
    "import polars as pl\n",
    "from IPython.display import display, Markdown"
   ]
  },
  {
   "cell_type": "markdown",
   "metadata": {},
   "source": [
    "## Step 3: Load and Process Shapefile\n",
    "Load the shapefile containing the districts information and calculate the centroids."
   ]
  },
  {
   "cell_type": "code",
   "execution_count": 4,
   "metadata": {},
   "outputs": [
    {
     "name": "stderr",
     "output_type": "stream",
     "text": [
      "/tmp/ipykernel_27992/3448129857.py:6: UserWarning: Geometry is in a geographic CRS. Results from 'centroid' are likely incorrect. Use 'GeoSeries.to_crs()' to re-project geometries to a projected CRS before this operation.\n",
      "\n",
      "  gdf['lat'] = gdf.centroid.y\n",
      "/tmp/ipykernel_27992/3448129857.py:7: UserWarning: Geometry is in a geographic CRS. Results from 'centroid' are likely incorrect. Use 'GeoSeries.to_crs()' to re-project geometries to a projected CRS before this operation.\n",
      "\n",
      "  gdf['lng'] = gdf.centroid.x\n"
     ]
    },
    {
     "data": {
      "text/markdown": [
       "### Error loading and processing shapefile: \"['centroid'] not found in axis\""
      ],
      "text/plain": [
       "<IPython.core.display.Markdown object>"
      ]
     },
     "metadata": {},
     "output_type": "display_data"
    }
   ],
   "source": [
    "def load_and_process_shapefile(shapefile_path, output_path):\n",
    "    try:\n",
    "        gdf = gpd.read_file(shapefile_path)\n",
    "        gdf = gdf.to_crs(epsg=4326)  # Convert to WGS84\n",
    "        # gdf['centroid'] = gdf.geometry.centroid\n",
    "        gdf['lat'] = gdf.centroid.y\n",
    "        gdf['lng'] = gdf.centroid.x\n",
    "        # gdf['geometry_wkt'] = gdf.geometry.apply(lambda x: x.wkt)\n",
    "        gdf = gdf.drop(columns=['geometry', 'centroid'])\n",
    "        gdf.to_parquet(output_path)\n",
    "        display(Markdown(\"### Shapefile loaded, centroids calculated, and saved successfully as Parquet.\"))\n",
    "        return output_path\n",
    "    except Exception as e:\n",
    "        display(Markdown(f\"### Error loading and processing shapefile: {e}\"))\n",
    "        return None\n",
    "\n",
    "shapefile_path = '/home/nls/data/mitma/geo/zonificacion-distritos/distritos_mitma.shp'\n",
    "output_path = '/home/nls/data/mitma/geo/processed_distritos.parquet'\n",
    "processed_shapefile_path = load_and_process_shapefile(shapefile_path, output_path)"
   ]
  },
  {
   "cell_type": "markdown",
   "metadata": {},
   "source": [
    "## Step 4: Load and Filter Data\n",
    "Using Polars lazy evaluation, perform joins with the centroids and filter rows with valid coordinates.\n"
   ]
  },
  {
   "cell_type": "code",
   "execution_count": 5,
   "metadata": {},
   "outputs": [
    {
     "data": {
      "text/markdown": [
       "### Data loaded successfully."
      ],
      "text/plain": [
       "<IPython.core.display.Markdown object>"
      ]
     },
     "metadata": {},
     "output_type": "display_data"
    },
    {
     "name": "stderr",
     "output_type": "stream",
     "text": [
      "/tmp/ipykernel_27992/2078149152.py:24: DeprecationWarning: The default coalesce behavior of left join will change to `False` in the next breaking release. Pass `coalesce=True` to keep the current behavior and silence this warning.\n",
      "  viajes_lazy = viajes_lazy.join(origin_centroids, on='origen', how='left')\n",
      "/tmp/ipykernel_27992/2078149152.py:29: DeprecationWarning: The default coalesce behavior of left join will change to `False` in the next breaking release. Pass `coalesce=True` to keep the current behavior and silence this warning.\n",
      "  viajes_lazy = viajes_lazy.join(destination_centroids, on='destino', how='left')\n",
      "/tmp/ipykernel_27992/2078149152.py:33: DeprecationWarning: named `columns` param is deprecated; use positional `*args` instead.\n",
      "  viajes_lazy = viajes_lazy.drop(columns=['geometry_wkt', 'geometry_wkt_right'])\n"
     ]
    },
    {
     "data": {
      "text/markdown": [
       "### Filtered and limited to 500000 valid rows."
      ],
      "text/plain": [
       "<IPython.core.display.Markdown object>"
      ]
     },
     "metadata": {},
     "output_type": "display_data"
    },
    {
     "name": "stdout",
     "output_type": "stream",
     "text": [
      "Filtered and limited dataset collected successfully:\n"
     ]
    },
    {
     "data": {
      "text/markdown": [
       "### Filtered and limited dataset collected and saved successfully."
      ],
      "text/plain": [
       "<IPython.core.display.Markdown object>"
      ]
     },
     "metadata": {},
     "output_type": "display_data"
    }
   ],
   "source": [
    "def load_data(parquet_path, shapefile_path):\n",
    "    try:\n",
    "        # Load the shapefile as a Polars DataFrame\n",
    "        centroides_df = pl.read_parquet(shapefile_path)\n",
    "        centroides_df = centroides_df.with_columns([\n",
    "            pl.col(\"ID\").alias(\"origen\"),\n",
    "            pl.col(\"ID\").alias(\"destino\")\n",
    "        ])\n",
    "        centroides_lazy = centroides_df.lazy()\n",
    "\n",
    "        # Lazy load the Parquet files\n",
    "        viajes_lazy = pl.scan_parquet(parquet_path + '/*/*.parquet')\n",
    "\n",
    "        display(Markdown(\"### Data loaded successfully.\"))\n",
    "        return viajes_lazy, centroides_lazy\n",
    "    except Exception as e:\n",
    "        display(Markdown(f\"### Error loading data: {e}\"))\n",
    "        return None, None\n",
    "\n",
    "def filter_valid_rows(viajes_lazy, centroides_lazy, max_rows=100000):\n",
    "    try:\n",
    "        # Join origin centroids\n",
    "        origin_centroids = centroides_lazy#.rename({'ID': 'origin'})\n",
    "        viajes_lazy = viajes_lazy.join(origin_centroids, on='origen', how='left')\n",
    "        viajes_lazy = viajes_lazy.rename({'lat': 'origen_lat', 'lng': 'origen_lng'})\n",
    "\n",
    "        # Join destination centroids\n",
    "        destination_centroids = centroides_lazy#.rename({'ID': 'destination'})\n",
    "        viajes_lazy = viajes_lazy.join(destination_centroids, on='destino', how='left')\n",
    "        viajes_lazy = viajes_lazy.rename({'lat': 'destino_lat', 'lng': 'destino_lng'})\n",
    "\n",
    "        # Drop extra geometries columns\n",
    "        viajes_lazy = viajes_lazy.drop(columns=['geometry_wkt', 'geometry_wkt_right'])\n",
    "\n",
    "        # Filter rows with valid coordinates and limit to max_rows\n",
    "        valid_rows_lazy = viajes_lazy.filter(\n",
    "            (pl.col('origen_lat').is_not_null()) & \n",
    "            (pl.col('origen_lng').is_not_null()) & \n",
    "            (pl.col('destino_lat').is_not_null()) & \n",
    "            (pl.col('destino_lng').is_not_null())\n",
    "        ).filter(pl.col('origen') != pl.col('destino')).limit(max_rows)\n",
    "\n",
    "        display(Markdown(f\"### Filtered and limited to {max_rows} valid rows.\"))\n",
    "        return valid_rows_lazy\n",
    "    except Exception as e:\n",
    "        display(Markdown(f\"### Error filtering valid rows: {e}\"))\n",
    "        return None\n",
    "\n",
    "parquet_path = '/home/nls/data/mitma/parquet/viajes_distritos'\n",
    "shapefile_path = '/home/nls/data/mitma/geo/processed_distritos.parquet'\n",
    "viajes_lazy, centroides_lazy = load_data(parquet_path, shapefile_path)\n",
    "\n",
    "if viajes_lazy is not None and centroides_lazy is not None:\n",
    "    valid_rows_lazy = filter_valid_rows(viajes_lazy, centroides_lazy, 500000)\n",
    "\n",
    "    if valid_rows_lazy is not None:\n",
    "        try:\n",
    "            # Collect the filtered and limited result\n",
    "            valid_rows_df = valid_rows_lazy.collect(streaming=True)\n",
    "            print(\"Filtered and limited dataset collected successfully:\")\n",
    "            # print(valid_rows_df)\n",
    "\n",
    "            valid_rows_df.write_parquet('/home/nls/data/mitma/geo/viajes_distritos500k_od.parquet')\n",
    "            display(Markdown(\"### Filtered and limited dataset collected and saved successfully.\"))\n",
    "\n",
    "        except Exception as e:\n",
    "            print(f\"An error occurred during data collection: {e}\")\n",
    "    else:\n",
    "        display(Markdown(\"### No valid rows to process.\"))\n",
    "else:\n",
    "    display(Markdown(\"### No data to process.\"))"
   ]
  },
  {
   "cell_type": "code",
   "execution_count": null,
   "id": "42b5be77",
   "metadata": {},
   "outputs": [],
   "source": []
  }
 ],
 "metadata": {
  "kernelspec": {
   "display_name": "Python 3",
   "language": "python",
   "name": "python3"
  },
  "language_info": {
   "codemirror_mode": {
    "name": "ipython",
    "version": 3
   },
   "file_extension": ".py",
   "mimetype": "text/x-python",
   "name": "python",
   "nbconvert_exporter": "python",
   "pygments_lexer": "ipython3",
   "version": "3.12.3"
  }
 },
 "nbformat": 4,
 "nbformat_minor": 5
}
