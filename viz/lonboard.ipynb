{
 "cells": [
  {
   "cell_type": "markdown",
   "id": "4bf0a05b",
   "metadata": {},
   "source": [
    "# Visualization and Filtering with Lonboard\n",
    "This notebook demonstrates how to load the intermediate filtered data and visualize it using Lonboard's ArcLayer."
   ]
  },
  {
   "cell_type": "markdown",
   "id": "2cb489d2",
   "metadata": {},
   "source": [
    "## Step 1: Install Required Packages\n",
    "Ensure you have the required packages installed."
   ]
  },
  {
   "cell_type": "code",
   "execution_count": null,
   "id": "784b8142",
   "metadata": {},
   "outputs": [],
   "source": [
    "!pip install geopandas polars lonboard pyarrow numpy"
   ]
  },
  {
   "cell_type": "markdown",
   "id": "092e57fa",
   "metadata": {},
   "source": [
    "## Step 2: Import Libraries and Initialize Sidecar"
   ]
  },
  {
   "cell_type": "code",
   "execution_count": 1,
   "id": "1bb86fba",
   "metadata": {},
   "outputs": [],
   "source": [
    "import geopandas as gpd\n",
    "import numpy as np\n",
    "import pandas as pd\n",
    "import pyarrow as pa\n",
    "import polars as pl\n",
    "from IPython.display import display, Markdown\n",
    "from sidecar import Sidecar\n",
    "import lonboard as lb\n",
    "from lonboard.experimental import ArcLayer\n",
    "from lonboard.layer_extension import BrushingExtension"
   ]
  },
  {
   "cell_type": "markdown",
   "id": "2127da8d",
   "metadata": {},
   "source": [
    "## Step 3: Load Filtered Data"
   ]
  },
  {
   "cell_type": "code",
   "execution_count": 7,
   "id": "6371254b",
   "metadata": {},
   "outputs": [
    {
     "data": {
      "text/markdown": [
       "### Filtered data loaded successfully."
      ],
      "text/plain": [
       "<IPython.core.display.Markdown object>"
      ]
     },
     "metadata": {},
     "output_type": "display_data"
    },
    {
     "name": "stdout",
     "output_type": "stream",
     "text": [
      "      fecha  periodo origen destino distancia actividad_origen  \\\n",
      "0  20230101        0  01002   01002     0.5-2             casa   \n",
      "1  20230101        0  01002   01002     0.5-2             casa   \n",
      "\n",
      "  actividad_destino estudio_origen_posible estudio_destino_posible  \\\n",
      "0         frecuente                     no                      no   \n",
      "1   trabajo_estudio                     no                      no   \n",
      "\n",
      "   residencia  ...     ID origen_lat origen_lng  \\\n",
      "0           1  ...  01002  43.025486  -2.971678   \n",
      "1           1  ...  01002  43.025486  -2.971678   \n",
      "\n",
      "                                        geometry_wkt  destino_right ID_right  \\\n",
      "0  MULTIPOLYGON (((-2.975247238420685 42.93816416...          01002    01002   \n",
      "1  MULTIPOLYGON (((-2.975247238420685 42.93816416...          01002    01002   \n",
      "\n",
      "  destino_lat  destino_lng                                 geometry_wkt_right  \\\n",
      "0   43.025486    -2.971678  MULTIPOLYGON (((-2.975247238420685 42.93816416...   \n",
      "1   43.025486    -2.971678  MULTIPOLYGON (((-2.975247238420685 42.93816416...   \n",
      "\n",
      "  origen_right  \n",
      "0        01002  \n",
      "1        01002  \n",
      "\n",
      "[2 rows x 26 columns]\n"
     ]
    }
   ],
   "source": [
    "filtered_data_path = '/home/nls/data/mitma/geo/viajes_distritos100k_od.parquet'\n",
    "filtered_df = pl.read_parquet(filtered_data_path).to_pandas()\n",
    "display(Markdown(\"### Filtered data loaded successfully.\"))\n",
    "print(filtered_df.head(2))"
   ]
  },
  {
   "cell_type": "markdown",
   "id": "7ffea2c3",
   "metadata": {},
   "source": [
    "## Step 4: Filter Out Rows Where 'origen' Equals 'destino'"
   ]
  },
  {
   "cell_type": "code",
   "execution_count": 8,
   "id": "c7754b9e",
   "metadata": {},
   "outputs": [
    {
     "data": {
      "text/markdown": [
       "### Filtered out rows where 'origen' equals 'destino'."
      ],
      "text/plain": [
       "<IPython.core.display.Markdown object>"
      ]
     },
     "metadata": {},
     "output_type": "display_data"
    }
   ],
   "source": [
    "filtered_df = filtered_df.filter(filtered_df['origen'] != filtered_df['destino'])\n",
    "display(Markdown(\"### Filtered out rows where 'origen' equals 'destino'.\"))"
   ]
  },
  {
   "cell_type": "markdown",
   "id": "35039e62",
   "metadata": {},
   "source": [
    "## Step 5: Create ArcLayer for Visualization\n",
    "Create the ArcLayer using the filtered data and visualize it using Lonboard."
   ]
  },
  {
   "cell_type": "code",
   "execution_count": 4,
   "id": "33b926ba",
   "metadata": {},
   "outputs": [],
   "source": [
    "value = np.ones(len(filtered_df))  # Use a constant value for simplicity\n",
    "get_source_position = np.array(filtered_df[['origen_lng', 'origen_lat']].values.tolist())\n",
    "get_target_position = np.array(filtered_df[['destino_lng', 'destino_lat']].values.tolist())\n",
    "table = pa.table({'value': value})\n",
    "\n"
   ]
  },
  {
   "cell_type": "code",
   "execution_count": 9,
   "id": "91f32c94",
   "metadata": {},
   "outputs": [],
   "source": [
    "\n",
    "brushing_extension = BrushingExtension()\n",
    "arc_layer = ArcLayer(\n",
    "    table=table,\n",
    "    get_source_position=get_source_position,\n",
    "    get_target_position=get_target_position,\n",
    "    get_source_color=[0, 128, 200],\n",
    "    get_target_color=[200, 0, 80],\n",
    "    get_width=1,\n",
    "    opacity=0.4,\n",
    "    pickable=False,\n",
    "    extensions=[brushing_extension],\n",
    "    brushing_radius=500,\n",
    ")\n"
   ]
  },
  {
   "cell_type": "code",
   "execution_count": 10,
   "id": "82cdf5b8",
   "metadata": {},
   "outputs": [],
   "source": [
    "\n",
    "# Initialize the sidecar for the map\n",
    "sc = Sidecar(title='Lonboard Map')\n"
   ]
  },
  {
   "cell_type": "code",
   "execution_count": 11,
   "id": "9a0d79a3",
   "metadata": {},
   "outputs": [],
   "source": [
    "\n",
    "# Configure Lonboard view\n",
    "lonboard_map = lb.Map(\n",
    "    layers=[arc_layer],picking_radius=10\n",
    "\n",
    "    # initial_view_state={\n",
    "    #     'latitude': filtered_df['origen_lat'].mean(),\n",
    "    #     'longitude': filtered_df['origen_lng'].mean(),\n",
    "    #     'zoom': 10,\n",
    "    #     'bearing': 0,\n",
    "    #     'pitch': 45,\n",
    "    # },\n",
    "    # tooltip={\n",
    "    #     'html': 'Trip from {origen_lat}, {origen_lng} to {destino_lat}, {destino_lng}',\n",
    "    #     'style': {'color': 'white'}\n",
    "    # }\n",
    ")\n",
    "\n",
    "# Display the map in the sidecar\n",
    "with sc:\n",
    "    display(lonboard_map)"
   ]
  }
 ],
 "metadata": {
  "kernelspec": {
   "display_name": "Python 3",
   "language": "python",
   "name": "python3"
  },
  "language_info": {
   "codemirror_mode": {
    "name": "ipython",
    "version": 3
   },
   "file_extension": ".py",
   "mimetype": "text/x-python",
   "name": "python",
   "nbconvert_exporter": "python",
   "pygments_lexer": "ipython3",
   "version": "3.12.3"
  }
 },
 "nbformat": 4,
 "nbformat_minor": 5
}
