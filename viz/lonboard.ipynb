{
 "cells": [
  {
   "cell_type": "markdown",
   "id": "4bf0a05b",
   "metadata": {},
   "source": [
    "# Visualization and Filtering with Lonboard\n",
    "This notebook demonstrates how to load the intermediate filtered data and visualize it using Lonboard's ArcLayer."
   ]
  },
  {
   "cell_type": "markdown",
   "id": "2cb489d2",
   "metadata": {},
   "source": [
    "## Step 1: Install Required Packages\n",
    "Ensure you have the required packages installed."
   ]
  },
  {
   "cell_type": "code",
   "execution_count": null,
   "id": "784b8142",
   "metadata": {
    "scrolled": true
   },
   "outputs": [
    {
     "name": "stdout",
     "output_type": "stream",
     "text": [
      "Requirement already satisfied: geopandas in /opt/conda/lib/python3.11/site-packages (1.0.0)\n",
      "Requirement already satisfied: polars in /opt/conda/lib/python3.11/site-packages (0.20.31)\n",
      "Requirement already satisfied: lonboard in /opt/conda/lib/python3.11/site-packages (0.9.3)\n",
      "Requirement already satisfied: pyarrow in /opt/conda/lib/python3.11/site-packages (16.1.0)\n",
      "Requirement already satisfied: numpy in /opt/conda/lib/python3.11/site-packages (1.26.4)\n",
      "Requirement already satisfied: sidecar in /opt/conda/lib/python3.11/site-packages (0.7.0)\n",
      "Requirement already satisfied: pyogrio in /opt/conda/lib/python3.11/site-packages (0.9.0)\n",
      "Requirement already satisfied: anywidget in /opt/conda/lib/python3.11/site-packages (0.9.13)\n",
      "Requirement already satisfied: ipywidgets in /opt/conda/lib/python3.11/site-packages (8.1.3)\n",
      "Requirement already satisfied: packaging in /opt/conda/lib/python3.11/site-packages (from geopandas) (24.1)\n",
      "Requirement already satisfied: pandas>=1.4.0 in /opt/conda/lib/python3.11/site-packages (from geopandas) (2.0.3)\n",
      "Requirement already satisfied: pyproj>=3.3.0 in /opt/conda/lib/python3.11/site-packages (from geopandas) (3.6.1)\n",
      "Requirement already satisfied: shapely>=2.0.0 in /opt/conda/lib/python3.11/site-packages (from geopandas) (2.0.4)\n",
      "Requirement already satisfied: matplotlib<4.0,>=3.7 in /opt/conda/lib/python3.11/site-packages (from lonboard) (3.8.4)\n",
      "Requirement already satisfied: palettable<4.0.0,>=3.3.3 in /opt/conda/lib/python3.11/site-packages (from lonboard) (3.3.3)\n",
      "Requirement already satisfied: typing-extensions<5.0.0,>=4.6.0 in /opt/conda/lib/python3.11/site-packages (from lonboard) (4.12.2)\n",
      "Requirement already satisfied: certifi in /opt/conda/lib/python3.11/site-packages (from pyogrio) (2024.6.2)\n",
      "Requirement already satisfied: psygnal>=0.8.1 in /opt/conda/lib/python3.11/site-packages (from anywidget) (0.11.1)\n",
      "Requirement already satisfied: comm>=0.1.3 in /opt/conda/lib/python3.11/site-packages (from ipywidgets) (0.2.2)\n",
      "Requirement already satisfied: ipython>=6.1.0 in /opt/conda/lib/python3.11/site-packages (from ipywidgets) (8.25.0)\n",
      "Requirement already satisfied: traitlets>=4.3.1 in /opt/conda/lib/python3.11/site-packages (from ipywidgets) (5.14.3)\n",
      "Requirement already satisfied: widgetsnbextension~=4.0.11 in /opt/conda/lib/python3.11/site-packages (from ipywidgets) (4.0.11)\n",
      "Requirement already satisfied: jupyterlab-widgets~=3.0.11 in /opt/conda/lib/python3.11/site-packages (from ipywidgets) (3.0.11)\n",
      "Requirement already satisfied: decorator in /opt/conda/lib/python3.11/site-packages (from ipython>=6.1.0->ipywidgets) (5.1.1)\n",
      "Requirement already satisfied: jedi>=0.16 in /opt/conda/lib/python3.11/site-packages (from ipython>=6.1.0->ipywidgets) (0.19.1)\n",
      "Requirement already satisfied: matplotlib-inline in /opt/conda/lib/python3.11/site-packages (from ipython>=6.1.0->ipywidgets) (0.1.7)\n",
      "Requirement already satisfied: prompt-toolkit<3.1.0,>=3.0.41 in /opt/conda/lib/python3.11/site-packages (from ipython>=6.1.0->ipywidgets) (3.0.47)\n",
      "Requirement already satisfied: pygments>=2.4.0 in /opt/conda/lib/python3.11/site-packages (from ipython>=6.1.0->ipywidgets) (2.18.0)\n",
      "Requirement already satisfied: stack-data in /opt/conda/lib/python3.11/site-packages (from ipython>=6.1.0->ipywidgets) (0.6.2)\n",
      "Requirement already satisfied: pexpect>4.3 in /opt/conda/lib/python3.11/site-packages (from ipython>=6.1.0->ipywidgets) (4.9.0)\n",
      "Requirement already satisfied: contourpy>=1.0.1 in /opt/conda/lib/python3.11/site-packages (from matplotlib<4.0,>=3.7->lonboard) (1.2.1)\n",
      "Requirement already satisfied: cycler>=0.10 in /opt/conda/lib/python3.11/site-packages (from matplotlib<4.0,>=3.7->lonboard) (0.12.1)\n",
      "Requirement already satisfied: fonttools>=4.22.0 in /opt/conda/lib/python3.11/site-packages (from matplotlib<4.0,>=3.7->lonboard) (4.53.0)\n",
      "Requirement already satisfied: kiwisolver>=1.3.1 in /opt/conda/lib/python3.11/site-packages (from matplotlib<4.0,>=3.7->lonboard) (1.4.5)\n",
      "Requirement already satisfied: pillow>=8 in /opt/conda/lib/python3.11/site-packages (from matplotlib<4.0,>=3.7->lonboard) (10.3.0)\n",
      "Requirement already satisfied: pyparsing>=2.3.1 in /opt/conda/lib/python3.11/site-packages (from matplotlib<4.0,>=3.7->lonboard) (3.1.2)\n",
      "Requirement already satisfied: python-dateutil>=2.7 in /opt/conda/lib/python3.11/site-packages (from matplotlib<4.0,>=3.7->lonboard) (2.9.0)\n",
      "Requirement already satisfied: pytz>=2020.1 in /opt/conda/lib/python3.11/site-packages (from pandas>=1.4.0->geopandas) (2024.1)\n",
      "Requirement already satisfied: tzdata>=2022.1 in /opt/conda/lib/python3.11/site-packages (from pandas>=1.4.0->geopandas) (2024.1)\n",
      "Requirement already satisfied: parso<0.9.0,>=0.8.3 in /opt/conda/lib/python3.11/site-packages (from jedi>=0.16->ipython>=6.1.0->ipywidgets) (0.8.4)\n",
      "Requirement already satisfied: ptyprocess>=0.5 in /opt/conda/lib/python3.11/site-packages (from pexpect>4.3->ipython>=6.1.0->ipywidgets) (0.7.0)\n",
      "Requirement already satisfied: wcwidth in /opt/conda/lib/python3.11/site-packages (from prompt-toolkit<3.1.0,>=3.0.41->ipython>=6.1.0->ipywidgets) (0.2.13)\n",
      "Requirement already satisfied: six>=1.5 in /opt/conda/lib/python3.11/site-packages (from python-dateutil>=2.7->matplotlib<4.0,>=3.7->lonboard) (1.16.0)\n",
      "Requirement already satisfied: executing>=1.2.0 in /opt/conda/lib/python3.11/site-packages (from stack-data->ipython>=6.1.0->ipywidgets) (2.0.1)\n",
      "Requirement already satisfied: asttokens>=2.1.0 in /opt/conda/lib/python3.11/site-packages (from stack-data->ipython>=6.1.0->ipywidgets) (2.4.1)\n",
      "Requirement already satisfied: pure-eval in /opt/conda/lib/python3.11/site-packages (from stack-data->ipython>=6.1.0->ipywidgets) (0.2.2)\n"
     ]
    }
   ],
   "source": [
    "!pip install geopandas polars lonboard pyarrow numpy sidecar pyogrio anywidget ipywidgets"
   ]
  },
  {
   "cell_type": "markdown",
   "id": "092e57fa",
   "metadata": {},
   "source": [
    "## Step 2: Import Libraries and Initialize Sidecar"
   ]
  },
  {
   "cell_type": "code",
   "execution_count": 12,
   "id": "1bb86fba",
   "metadata": {},
   "outputs": [],
   "source": [
    "import geopandas as gpd\n",
    "import numpy as np\n",
    "import pandas as pd\n",
    "import pyarrow as pa\n",
    "import polars as pl\n",
    "from IPython.display import display, Markdown\n",
    "from sidecar import Sidecar\n",
    "import lonboard as lb\n",
    "from lonboard.experimental import ArcLayer\n",
    "from lonboard.layer_extension import BrushingExtension"
   ]
  },
  {
   "cell_type": "markdown",
   "id": "2127da8d",
   "metadata": {},
   "source": [
    "## Step 3: Load Filtered Data"
   ]
  },
  {
   "cell_type": "code",
   "execution_count": 13,
   "id": "032d9a7d-6ed0-4ad4-a50f-3c67b2653aa7",
   "metadata": {},
   "outputs": [
    {
     "data": {
      "text/markdown": [
       "### Filtered data loaded successfully."
      ],
      "text/plain": [
       "<IPython.core.display.Markdown object>"
      ]
     },
     "metadata": {},
     "output_type": "display_data"
    },
    {
     "name": "stdout",
     "output_type": "stream",
     "text": [
      "      fecha  periodo    origen  destino distancia actividad_origen  \\\n",
      "0  20230101        1  38029_AM  0601509       >50  trabajo_estudio   \n",
      "1  20230101       11  38029_AM  3501604       >50     no_frecuente   \n",
      "\n",
      "  actividad_destino estudio_origen_posible estudio_destino_posible  \\\n",
      "0              casa                     no                      no   \n",
      "1   trabajo_estudio                     no                      no   \n",
      "\n",
      "   residencia  ... viajes_km partition_0        ID  origen_lat  origen_lng  \\\n",
      "0           6  ...  3596.229     2023-01  38029_AM   28.796568  -17.899411   \n",
      "1          35  ...  1305.817     2023-01  38029_AM   28.796568  -17.899411   \n",
      "\n",
      "  destino_right ID_right  destino_lat  destino_lng origen_right  \n",
      "0      38029_AM  0601509    38.803288    -7.077529      0601509  \n",
      "1      38029_AM  3501604    28.111166   -15.444507      3501604  \n",
      "\n",
      "[2 rows x 24 columns]\n"
     ]
    }
   ],
   "source": [
    "filtered_data_path = './geo/viajes_distritos500k_od.parquet'\n",
    "filtered_df = pl.read_parquet(filtered_data_path).to_pandas()\n",
    "display(Markdown(\"### Filtered data loaded successfully.\"))\n",
    "print(filtered_df.head(2))"
   ]
  },
  {
   "cell_type": "markdown",
   "id": "7ffea2c3",
   "metadata": {},
   "source": [
    "## Step 4: Filter Out Rows Where 'origen' Equals 'destino'"
   ]
  },
  {
   "cell_type": "code",
   "execution_count": 16,
   "id": "c7754b9e",
   "metadata": {},
   "outputs": [
    {
     "data": {
      "text/markdown": [
       "### Filtered out rows where 'origen' equals 'destino'."
      ],
      "text/plain": [
       "<IPython.core.display.Markdown object>"
      ]
     },
     "metadata": {},
     "output_type": "display_data"
    },
    {
     "name": "stdout",
     "output_type": "stream",
     "text": [
      "Empty DataFrame\n",
      "Columns: []\n",
      "Index: [0, 1, 2, 3, 4]\n"
     ]
    }
   ],
   "source": [
    "#filtered_df = filtered_df.filter(filtered_df['origen'] != filtered_df['destino'])\n",
    "#display(Markdown(\"### Filtered out rows where 'origen' equals 'destino'.\"))\n",
    "#print(filtered_df.head())"
   ]
  },
  {
   "cell_type": "markdown",
   "id": "93a62f70-9c58-4132-b8b4-67f0893ed53d",
   "metadata": {},
   "source": [
    "## Step 5: Create source and target scatterplot layers"
   ]
  },
  {
   "cell_type": "code",
   "execution_count": 14,
   "id": "095d9c8a-4e0f-4b14-a779-8501c7033c00",
   "metadata": {},
   "outputs": [],
   "source": [
    "# Create GeoDataFrames for source and target\n",
    "source_gdf = gpd.GeoDataFrame(filtered_df, geometry=gpd.points_from_xy(filtered_df.origen_lng, filtered_df.origen_lat))\n",
    "target_gdf = gpd.GeoDataFrame(filtered_df, geometry=gpd.points_from_xy(filtered_df.destino_lng, filtered_df.destino_lat))\n"
   ]
  },
  {
   "cell_type": "code",
   "execution_count": 15,
   "id": "6d14f4b5-8b83-45ab-a5f0-3093c587be6d",
   "metadata": {},
   "outputs": [],
   "source": [
    "# Define colors and radius\n",
    "source_fill_colors = [0, 128, 0]\n",
    "target_fill_colors = [128, 0, 0]\n",
    "target_line_colors = [255, 0, 0]\n",
    "brushing_radius = 20000\n",
    "brushing_extension = BrushingExtension()"
   ]
  },
  {
   "cell_type": "code",
   "execution_count": 22,
   "id": "4fe3367a-e6f4-4657-8b2b-3df803c8a239",
   "metadata": {},
   "outputs": [
    {
     "name": "stderr",
     "output_type": "stream",
     "text": [
      "/opt/conda/lib/python3.11/site-packages/lonboard/_geoarrow/ops/reproject.py:23: UserWarning: No CRS exists on data. If no data is shown on the map, double check that your CRS is WGS84.\n",
      "  warn(\n",
      "/opt/conda/lib/python3.11/site-packages/lonboard/_geoarrow/ops/reproject.py:23: UserWarning: No CRS exists on data. If no data is shown on the map, double check that your CRS is WGS84.\n",
      "  warn(\n",
      "/opt/conda/lib/python3.11/site-packages/lonboard/_geoarrow/ops/reproject.py:23: UserWarning: No CRS exists on data. If no data is shown on the map, double check that your CRS is WGS84.\n",
      "  warn(\n"
     ]
    }
   ],
   "source": [
    "# Define source and target layers\n",
    "source_layer = lb.ScatterplotLayer.from_geopandas(\n",
    "    source_gdf,\n",
    "    get_fill_color=source_fill_colors,\n",
    "    radius_scale=3000,\n",
    "    pickable=False,\n",
    "    extensions=[brushing_extension],\n",
    "    brushing_radius=brushing_radius,\n",
    ")\n",
    "\n",
    "target_layer = lb.ScatterplotLayer.from_geopandas(\n",
    "    target_gdf,\n",
    "    get_fill_color=target_fill_colors,\n",
    "    radius_scale=3000,\n",
    "    pickable=False,\n",
    "    extensions=[brushing_extension],\n",
    "    brushing_radius=brushing_radius,\n",
    ")\n",
    "\n",
    "target_ring_layer = lb.ScatterplotLayer.from_geopandas(\n",
    "    target_gdf,\n",
    "    get_line_color=target_line_colors,\n",
    "    radius_scale=2000,\n",
    "    pickable=False,\n",
    "    stroked=True,\n",
    "    filled=False,\n",
    "    line_width_min_pixels=2,\n",
    "    extensions=[brushing_extension],\n",
    "    brushing_radius=brushing_radius,\n",
    ")"
   ]
  },
  {
   "cell_type": "markdown",
   "id": "35039e62",
   "metadata": {},
   "source": [
    "## Step 5: Create ArcLayer for Visualization\n",
    "Create the ArcLayer using the filtered data and visualize it using Lonboard."
   ]
  },
  {
   "cell_type": "code",
   "execution_count": 23,
   "id": "33b926ba",
   "metadata": {
    "editable": true,
    "slideshow": {
     "slide_type": ""
    },
    "tags": []
   },
   "outputs": [],
   "source": [
    "value = np.ones(len(filtered_df))  # Use a constant value for simplicity\n",
    "get_source_position = filtered_df[['origen_lng', 'origen_lat']].to_numpy()\n",
    "get_target_position = filtered_df[['destino_lng', 'destino_lat']].to_numpy()\n",
    "table = pa.table({'value': value})\n",
    "\n"
   ]
  },
  {
   "cell_type": "code",
   "execution_count": 24,
   "id": "91f32c94",
   "metadata": {},
   "outputs": [],
   "source": [
    "\n",
    "arc_layer = ArcLayer(\n",
    "    table=table,\n",
    "    get_source_position=get_source_position,\n",
    "    get_target_position=get_target_position,\n",
    "    get_source_color=[0, 128, 0],\n",
    "    get_target_color=[128, 0, 0],\n",
    "    get_width=1,\n",
    "    opacity=0.4,\n",
    "    pickable=True,\n",
    "    extensions=[brushing_extension],\n",
    "    brushing_radius=brushing_radius,\n",
    ")\n"
   ]
  },
  {
   "cell_type": "code",
   "execution_count": 37,
   "id": "82cdf5b8",
   "metadata": {},
   "outputs": [],
   "source": [
    "\n",
    "# Initialize the sidecar for the map\n",
    "sc = Sidecar(title='Lonboard Map')\n"
   ]
  },
  {
   "cell_type": "code",
   "execution_count": 38,
   "id": "9a0d79a3",
   "metadata": {},
   "outputs": [],
   "source": [
    "DarkMatter = 'https://basemaps.cartocdn.com/gl/dark-matter-gl-style/style.json'\n",
    "# Configure Lonboard view\n",
    "lonboard_map = lb.Map(\n",
    "    layers=[source_layer, arc_layer, target_ring_layer]\n",
    "    #,picking_radius=1\n",
    "    , basemap_style = DarkMatter\n",
    "    # initial_view_state={\n",
    "    #     'latitude': filtered_df['origen_lat'].mean(),\n",
    "    #     'longitude': filtered_df['origen_lng'].mean(),\n",
    "    #     'zoom': 10,\n",
    "    #     'bearing': 0,\n",
    "    #     'pitch': 45,\n",
    "    # },\n",
    "    # tooltip={\n",
    "    #     'html': 'Trip from {origen_lat}, {origen_lng} to {destino_lat}, {destino_lng}',\n",
    "    #     'style': {'color': 'white'}\n",
    "    # }\n",
    ")\n"
   ]
  },
  {
   "cell_type": "code",
   "execution_count": 39,
   "id": "86562abb-3f92-4a63-b696-400fb16288ed",
   "metadata": {
    "editable": true,
    "slideshow": {
     "slide_type": ""
    },
    "tags": []
   },
   "outputs": [],
   "source": [
    "\n",
    "# Display the map in the sidecar\n",
    "with sc:\n",
    "    display(lonboard_map)"
   ]
  },
  {
   "cell_type": "code",
   "execution_count": null,
   "id": "7af2d193-39b6-4046-bcd5-6e1f8c57280e",
   "metadata": {
    "editable": true,
    "slideshow": {
     "slide_type": ""
    },
    "tags": []
   },
   "outputs": [],
   "source": []
  }
 ],
 "metadata": {
  "kernelspec": {
   "display_name": "Python 3 (ipykernel)",
   "language": "python",
   "name": "python3"
  },
  "language_info": {
   "codemirror_mode": {
    "name": "ipython",
    "version": 3
   },
   "file_extension": ".py",
   "mimetype": "text/x-python",
   "name": "python",
   "nbconvert_exporter": "python",
   "pygments_lexer": "ipython3",
   "version": "3.11.9"
  }
 },
 "nbformat": 4,
 "nbformat_minor": 5
}
